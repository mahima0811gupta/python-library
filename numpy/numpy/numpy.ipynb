{
 "cells": [
  {
   "cell_type": "markdown",
   "id": "c6c2d2eb-91ff-460c-9d8b-0fec75f7e391",
   "metadata": {},
   "source": [
    "***WELCOME TO NUMPY***\n"
   ]
  },
  {
   "cell_type": "code",
   "execution_count": 1,
   "id": "e3ac0dc2-708b-4c7c-bce4-de0a14e19aea",
   "metadata": {},
   "outputs": [],
   "source": [
    "import numpy as np"
   ]
  },
  {
   "cell_type": "code",
   "execution_count": 2,
   "id": "bc149c77-6a6c-470e-b3d2-040f65afc44a",
   "metadata": {},
   "outputs": [],
   "source": [
    "myary=np.array([[3,6,5,7]]),"
   ]
  },
  {
   "cell_type": "code",
   "execution_count": 3,
   "id": "f6f1ed1d-80ab-4382-b083-62f4e20a9928",
   "metadata": {},
   "outputs": [
    {
     "data": {
      "text/plain": [
       "(array([[3, 6, 5, 7]]),)"
      ]
     },
     "execution_count": 3,
     "metadata": {},
     "output_type": "execute_result"
    }
   ],
   "source": [
    "myary"
   ]
  },
  {
   "cell_type": "markdown",
   "id": "525abdba-0f46-4eef-80d2-e2c02bf98007",
   "metadata": {},
   "source": [
    "# Array creation:Conversion from other Python structures"
   ]
  },
  {
   "cell_type": "code",
   "execution_count": 6,
   "id": "ecf1d5a4-f31e-4579-a235-56938902aa68",
   "metadata": {},
   "outputs": [],
   "source": [
    "listary=np.array([[1,2,3],[3,4,5],[6,7,8]])"
   ]
  },
  {
   "cell_type": "code",
   "execution_count": 8,
   "id": "c24e62ff-db46-4fcb-a99b-626340399a0f",
   "metadata": {},
   "outputs": [
    {
     "data": {
      "text/plain": [
       "array([[1, 2, 3],\n",
       "       [3, 4, 5],\n",
       "       [6, 7, 8]])"
      ]
     },
     "execution_count": 8,
     "metadata": {},
     "output_type": "execute_result"
    }
   ],
   "source": [
    "listary"
   ]
  },
  {
   "cell_type": "code",
   "execution_count": 10,
   "id": "fa920d32-33b8-4710-bec5-501b18f843e3",
   "metadata": {},
   "outputs": [
    {
     "data": {
      "text/plain": [
       "dtype('int32')"
      ]
     },
     "execution_count": 10,
     "metadata": {},
     "output_type": "execute_result"
    }
   ],
   "source": [
    "listary.dtype"
   ]
  },
  {
   "cell_type": "code",
   "execution_count": 11,
   "id": "700569cd-87bd-4212-aa9a-34124f312fea",
   "metadata": {},
   "outputs": [
    {
     "data": {
      "text/plain": [
       "9"
      ]
     },
     "execution_count": 11,
     "metadata": {},
     "output_type": "execute_result"
    }
   ],
   "source": [
    "listary.size"
   ]
  },
  {
   "cell_type": "code",
   "execution_count": 12,
   "id": "30c51253-490f-4773-b046-6232079f713a",
   "metadata": {},
   "outputs": [
    {
     "data": {
      "text/plain": [
       "(3, 3)"
      ]
     },
     "execution_count": 12,
     "metadata": {},
     "output_type": "execute_result"
    }
   ],
   "source": [
    "listary.shape"
   ]
  },
  {
   "cell_type": "code",
   "execution_count": 15,
   "id": "21949263-5c96-4449-b90b-cfa1afcc3b6d",
   "metadata": {},
   "outputs": [
    {
     "data": {
      "text/plain": [
       "6"
      ]
     },
     "execution_count": 15,
     "metadata": {},
     "output_type": "execute_result"
    }
   ],
   "source": [
    "listary[2][0]"
   ]
  },
  {
   "cell_type": "markdown",
   "id": "c71d2031-6178-46de-a21c-66e5806a543d",
   "metadata": {},
   "source": [
    "# Intrinsic numpy array creation object"
   ]
  },
  {
   "cell_type": "code",
   "execution_count": 16,
   "id": "23270be6-9dd0-445b-92a4-6d8bce0581cf",
   "metadata": {},
   "outputs": [],
   "source": [
    "zeros=np.zeros((2,5))"
   ]
  },
  {
   "cell_type": "code",
   "execution_count": 17,
   "id": "6d34bc7e-84f3-4572-b9f9-d8b90b865a2d",
   "metadata": {},
   "outputs": [
    {
     "data": {
      "text/plain": [
       "array([[0., 0., 0., 0., 0.],\n",
       "       [0., 0., 0., 0., 0.]])"
      ]
     },
     "execution_count": 17,
     "metadata": {},
     "output_type": "execute_result"
    }
   ],
   "source": [
    "zeros"
   ]
  },
  {
   "cell_type": "code",
   "execution_count": 18,
   "id": "4436e1a6-122e-4aed-827e-3dccc5b11620",
   "metadata": {},
   "outputs": [
    {
     "data": {
      "text/plain": [
       "dtype('float64')"
      ]
     },
     "execution_count": 18,
     "metadata": {},
     "output_type": "execute_result"
    }
   ],
   "source": [
    "zeros.dtype\n"
   ]
  },
  {
   "cell_type": "code",
   "execution_count": 19,
   "id": "37ceac6a-1342-4a47-88f2-c4d86ab40992",
   "metadata": {},
   "outputs": [
    {
     "data": {
      "text/plain": [
       "(2, 5)"
      ]
     },
     "execution_count": 19,
     "metadata": {},
     "output_type": "execute_result"
    }
   ],
   "source": [
    "zeros.shape"
   ]
  },
  {
   "cell_type": "code",
   "execution_count": 20,
   "id": "cd2d5bf9-72e1-4350-a129-ddba912899ca",
   "metadata": {},
   "outputs": [],
   "source": [
    "rng=np.arange(15)"
   ]
  },
  {
   "cell_type": "code",
   "execution_count": 22,
   "id": "69da2f80-a5e3-4399-852e-144cd808a589",
   "metadata": {},
   "outputs": [
    {
     "data": {
      "text/plain": [
       "array([ 0,  1,  2,  3,  4,  5,  6,  7,  8,  9, 10, 11, 12, 13, 14])"
      ]
     },
     "execution_count": 22,
     "metadata": {},
     "output_type": "execute_result"
    }
   ],
   "source": [
    "rng"
   ]
  },
  {
   "cell_type": "code",
   "execution_count": null,
   "id": "a8deb3ae-e619-4892-b12c-5430fbb0f468",
   "metadata": {},
   "outputs": [],
   "source": []
  }
 ],
 "metadata": {
  "kernelspec": {
   "display_name": "Python 3 (ipykernel)",
   "language": "python",
   "name": "python3"
  },
  "language_info": {
   "codemirror_mode": {
    "name": "ipython",
    "version": 3
   },
   "file_extension": ".py",
   "mimetype": "text/x-python",
   "name": "python",
   "nbconvert_exporter": "python",
   "pygments_lexer": "ipython3",
   "version": "3.10.11"
  }
 },
 "nbformat": 4,
 "nbformat_minor": 5
}
