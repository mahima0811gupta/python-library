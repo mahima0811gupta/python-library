{
 "cells": [
  {
   "cell_type": "code",
   "execution_count": 1,
   "id": "387c8ab6-92fd-475a-b225-db5cbad31a3c",
   "metadata": {},
   "outputs": [],
   "source": [
    "import numpy as np"
   ]
  },
  {
   "cell_type": "code",
   "execution_count": 2,
   "id": "f2c5d9a3-953e-4d35-94f8-1b2fc6c52286",
   "metadata": {},
   "outputs": [],
   "source": [
    "lspace=np.linspace(1,50,10)"
   ]
  },
  {
   "cell_type": "code",
   "execution_count": 3,
   "id": "0301fe10-cb88-4acf-8706-a0d5aa259fcf",
   "metadata": {},
   "outputs": [
    {
     "data": {
      "text/plain": [
       "array([ 1.        ,  6.44444444, 11.88888889, 17.33333333, 22.77777778,\n",
       "       28.22222222, 33.66666667, 39.11111111, 44.55555556, 50.        ])"
      ]
     },
     "execution_count": 3,
     "metadata": {},
     "output_type": "execute_result"
    }
   ],
   "source": [
    "lspace"
   ]
  },
  {
   "cell_type": "code",
   "execution_count": 9,
   "id": "522ca1ed-0225-4042-bd3b-f84a92fc4dc4",
   "metadata": {},
   "outputs": [],
   "source": [
    "lsspace=np.linspace(1,4,4)\n"
   ]
  },
  {
   "cell_type": "code",
   "execution_count": 10,
   "id": "107dac25-81de-4fd1-8c60-9c7ed3fad369",
   "metadata": {},
   "outputs": [
    {
     "data": {
      "text/plain": [
       "array([1., 2., 3., 4.])"
      ]
     },
     "execution_count": 10,
     "metadata": {},
     "output_type": "execute_result"
    }
   ],
   "source": [
    "lsspace"
   ]
  },
  {
   "cell_type": "code",
   "execution_count": 7,
   "id": "afc49964-df41-4d8e-bfe5-605582729c56",
   "metadata": {},
   "outputs": [],
   "source": [
    "emp=np.empty((4,6))"
   ]
  },
  {
   "cell_type": "code",
   "execution_count": 8,
   "id": "c9843bd5-b2d8-4ec8-ab30-bb796ec757c9",
   "metadata": {},
   "outputs": [
    {
     "data": {
      "text/plain": [
       "array([[6.23042070e-307, 4.67296746e-307, 1.69121096e-306,\n",
       "        9.34598246e-307, 1.42413555e-306, 1.78019082e-306],\n",
       "       [1.37959740e-306, 6.23057349e-307, 1.02360935e-306,\n",
       "        1.69120416e-306, 1.78022342e-306, 6.23058028e-307],\n",
       "       [1.06811422e-306, 9.45699680e-308, 1.11258854e-306,\n",
       "        1.11261502e-306, 1.42410839e-306, 7.56597770e-307],\n",
       "       [6.23059726e-307, 1.42419530e-306, 7.56602523e-307,\n",
       "        1.29061821e-306, 1.11261298e-306, 9.34604358e-307]])"
      ]
     },
     "execution_count": 8,
     "metadata": {},
     "output_type": "execute_result"
    }
   ],
   "source": [
    "emp"
   ]
  },
  {
   "cell_type": "code",
   "execution_count": 14,
   "id": "41ca016e-7eb0-4bf6-9dd1-0e91261b4622",
   "metadata": {},
   "outputs": [],
   "source": [
    "emp_like=np.empty_like(lspace)"
   ]
  },
  {
   "cell_type": "code",
   "execution_count": 16,
   "id": "6167e26e-cf6b-4c88-aff5-0718e9934619",
   "metadata": {},
   "outputs": [
    {
     "data": {
      "text/plain": [
       "array([1., 2., 3., 4.])"
      ]
     },
     "execution_count": 16,
     "metadata": {},
     "output_type": "execute_result"
    }
   ],
   "source": [
    "emp_like"
   ]
  },
  {
   "cell_type": "code",
   "execution_count": 18,
   "id": "ed41e1b4-c7f2-4c62-b86b-1d4f45ff1d2b",
   "metadata": {},
   "outputs": [],
   "source": [
    "ide=np.identity(45)"
   ]
  },
  {
   "cell_type": "code",
   "execution_count": 19,
   "id": "ad983003-ccf1-4bfd-b419-b19cf65df2ee",
   "metadata": {},
   "outputs": [
    {
     "data": {
      "text/plain": [
       "array([[1., 0., 0., ..., 0., 0., 0.],\n",
       "       [0., 1., 0., ..., 0., 0., 0.],\n",
       "       [0., 0., 1., ..., 0., 0., 0.],\n",
       "       ...,\n",
       "       [0., 0., 0., ..., 1., 0., 0.],\n",
       "       [0., 0., 0., ..., 0., 1., 0.],\n",
       "       [0., 0., 0., ..., 0., 0., 1.]])"
      ]
     },
     "execution_count": 19,
     "metadata": {},
     "output_type": "execute_result"
    }
   ],
   "source": [
    "ide"
   ]
  },
  {
   "cell_type": "code",
   "execution_count": 20,
   "id": "8ba5adba-a5af-477c-8527-21792ca7f9f7",
   "metadata": {},
   "outputs": [
    {
     "data": {
      "text/plain": [
       "(45, 45)"
      ]
     },
     "execution_count": 20,
     "metadata": {},
     "output_type": "execute_result"
    }
   ],
   "source": [
    "ide.shape"
   ]
  },
  {
   "cell_type": "code",
   "execution_count": 21,
   "id": "9cd772a0-f2d0-461c-a315-85df6b2736ea",
   "metadata": {},
   "outputs": [
    {
     "data": {
      "text/plain": [
       "2025"
      ]
     },
     "execution_count": 21,
     "metadata": {},
     "output_type": "execute_result"
    }
   ],
   "source": [
    "ide.size"
   ]
  },
  {
   "cell_type": "code",
   "execution_count": 23,
   "id": "0940aa46-e653-47ac-b46e-e2b6a3c1ef5c",
   "metadata": {},
   "outputs": [],
   "source": [
    "rng=np.arange(100)\n"
   ]
  },
  {
   "cell_type": "code",
   "execution_count": 24,
   "id": "40357a6e-0feb-4873-b9a9-0154e6259b6a",
   "metadata": {},
   "outputs": [
    {
     "data": {
      "text/plain": [
       "array([ 0,  1,  2,  3,  4,  5,  6,  7,  8,  9, 10, 11, 12, 13, 14, 15, 16,\n",
       "       17, 18, 19, 20, 21, 22, 23, 24, 25, 26, 27, 28, 29, 30, 31, 32, 33,\n",
       "       34, 35, 36, 37, 38, 39, 40, 41, 42, 43, 44, 45, 46, 47, 48, 49, 50,\n",
       "       51, 52, 53, 54, 55, 56, 57, 58, 59, 60, 61, 62, 63, 64, 65, 66, 67,\n",
       "       68, 69, 70, 71, 72, 73, 74, 75, 76, 77, 78, 79, 80, 81, 82, 83, 84,\n",
       "       85, 86, 87, 88, 89, 90, 91, 92, 93, 94, 95, 96, 97, 98, 99])"
      ]
     },
     "execution_count": 24,
     "metadata": {},
     "output_type": "execute_result"
    }
   ],
   "source": [
    "rng\n"
   ]
  },
  {
   "cell_type": "code",
   "execution_count": 33,
   "id": "102e9c0f-b8d9-4e79-a73e-3897e36f161a",
   "metadata": {},
   "outputs": [],
   "source": [
    "arr=rng.reshape(2,50)"
   ]
  },
  {
   "cell_type": "code",
   "execution_count": 34,
   "id": "4c91c220-c011-42d7-90de-30385d1ba572",
   "metadata": {},
   "outputs": [
    {
     "data": {
      "text/plain": [
       "array([[ 0,  1,  2,  3,  4,  5,  6,  7,  8,  9, 10, 11, 12, 13, 14, 15,\n",
       "        16, 17, 18, 19, 20, 21, 22, 23, 24, 25, 26, 27, 28, 29, 30, 31,\n",
       "        32, 33, 34, 35, 36, 37, 38, 39, 40, 41, 42, 43, 44, 45, 46, 47,\n",
       "        48, 49],\n",
       "       [50, 51, 52, 53, 54, 55, 56, 57, 58, 59, 60, 61, 62, 63, 64, 65,\n",
       "        66, 67, 68, 69, 70, 71, 72, 73, 74, 75, 76, 77, 78, 79, 80, 81,\n",
       "        82, 83, 84, 85, 86, 87, 88, 89, 90, 91, 92, 93, 94, 95, 96, 97,\n",
       "        98, 99]])"
      ]
     },
     "execution_count": 34,
     "metadata": {},
     "output_type": "execute_result"
    }
   ],
   "source": [
    "arr\n"
   ]
  },
  {
   "cell_type": "code",
   "execution_count": 35,
   "id": "9a21c21e-56da-4848-aaf7-89f91310c076",
   "metadata": {},
   "outputs": [
    {
     "data": {
      "text/plain": [
       "array([ 0,  1,  2,  3,  4,  5,  6,  7,  8,  9, 10, 11, 12, 13, 14, 15, 16,\n",
       "       17, 18, 19, 20, 21, 22, 23, 24, 25, 26, 27, 28, 29, 30, 31, 32, 33,\n",
       "       34, 35, 36, 37, 38, 39, 40, 41, 42, 43, 44, 45, 46, 47, 48, 49, 50,\n",
       "       51, 52, 53, 54, 55, 56, 57, 58, 59, 60, 61, 62, 63, 64, 65, 66, 67,\n",
       "       68, 69, 70, 71, 72, 73, 74, 75, 76, 77, 78, 79, 80, 81, 82, 83, 84,\n",
       "       85, 86, 87, 88, 89, 90, 91, 92, 93, 94, 95, 96, 97, 98, 99])"
      ]
     },
     "execution_count": 35,
     "metadata": {},
     "output_type": "execute_result"
    }
   ],
   "source": [
    "arr.ravel()"
   ]
  },
  {
   "cell_type": "code",
   "execution_count": 36,
   "id": "a0f0d53a-3ff7-4db0-ac40-34ce18d1c519",
   "metadata": {},
   "outputs": [],
   "source": [
    "x=[[1,2,3],[4,5,6],[7,8,9]]"
   ]
  },
  {
   "cell_type": "code",
   "execution_count": 37,
   "id": "d1debe0b-43c8-480c-aeaa-ec6b5b552c0f",
   "metadata": {},
   "outputs": [],
   "source": [
    "arr=np.array(x)"
   ]
  },
  {
   "cell_type": "code",
   "execution_count": 38,
   "id": "4706217c-638f-42fe-b700-4fdce11ce1a4",
   "metadata": {},
   "outputs": [
    {
     "data": {
      "text/plain": [
       "array([[1, 2, 3],\n",
       "       [4, 5, 6],\n",
       "       [7, 8, 9]])"
      ]
     },
     "execution_count": 38,
     "metadata": {},
     "output_type": "execute_result"
    }
   ],
   "source": [
    "arr"
   ]
  },
  {
   "cell_type": "code",
   "execution_count": 39,
   "id": "2cd8e825-b0d5-4b1c-8bec-85908247d437",
   "metadata": {},
   "outputs": [
    {
     "data": {
      "text/plain": [
       "array([12, 15, 18])"
      ]
     },
     "execution_count": 39,
     "metadata": {},
     "output_type": "execute_result"
    }
   ],
   "source": [
    "arr.sum(axis=0)"
   ]
  },
  {
   "cell_type": "code",
   "execution_count": 40,
   "id": "480028ee-4635-4b64-af9c-8cc0507e58c7",
   "metadata": {},
   "outputs": [
    {
     "data": {
      "text/plain": [
       "array([ 6, 15, 24])"
      ]
     },
     "execution_count": 40,
     "metadata": {},
     "output_type": "execute_result"
    }
   ],
   "source": [
    "arr.sum(axis=1)"
   ]
  },
  {
   "cell_type": "markdown",
   "id": "6895046a-6701-4b7b-9f26-e3e2edb19c74",
   "metadata": {},
   "source": [
    "# tranpose"
   ]
  },
  {
   "cell_type": "code",
   "execution_count": 41,
   "id": "dd6c2428-7726-45cf-bc3e-fecebda16b77",
   "metadata": {},
   "outputs": [
    {
     "data": {
      "text/plain": [
       "array([[1, 4, 7],\n",
       "       [2, 5, 8],\n",
       "       [3, 6, 9]])"
      ]
     },
     "execution_count": 41,
     "metadata": {},
     "output_type": "execute_result"
    }
   ],
   "source": [
    "arr.T\n"
   ]
  },
  {
   "cell_type": "markdown",
   "id": "547f1e4d-8544-46e2-80fd-06de1f2281d2",
   "metadata": {},
   "source": [
    "***flat***"
   ]
  },
  {
   "cell_type": "code",
   "execution_count": 42,
   "id": "51045096-a177-43b6-a6e6-0ebb94afd5ac",
   "metadata": {},
   "outputs": [
    {
     "data": {
      "text/plain": [
       "<numpy.flatiter at 0x1bbba70f170>"
      ]
     },
     "execution_count": 42,
     "metadata": {},
     "output_type": "execute_result"
    }
   ],
   "source": [
    "arr.flat"
   ]
  },
  {
   "cell_type": "code",
   "execution_count": 47,
   "id": "eb750f79-158a-4fae-b610-bb49b5efbf30",
   "metadata": {},
   "outputs": [
    {
     "name": "stdout",
     "output_type": "stream",
     "text": [
      "1\n",
      "2\n",
      "3\n",
      "4\n",
      "5\n",
      "6\n",
      "7\n",
      "8\n",
      "9\n"
     ]
    }
   ],
   "source": [
    "for item in arr.flat:\n",
    "  print(item)"
   ]
  },
  {
   "cell_type": "code",
   "execution_count": 48,
   "id": "f1f0d198-5a02-4950-9684-6bd95a927630",
   "metadata": {},
   "outputs": [
    {
     "data": {
      "text/plain": [
       "2"
      ]
     },
     "execution_count": 48,
     "metadata": {},
     "output_type": "execute_result"
    }
   ],
   "source": [
    "arr.ndim"
   ]
  },
  {
   "cell_type": "code",
   "execution_count": 49,
   "id": "4da3f1b0-ab17-4e0d-8074-5d6cb5f7ceae",
   "metadata": {},
   "outputs": [
    {
     "data": {
      "text/plain": [
       "(3, 3)"
      ]
     },
     "execution_count": 49,
     "metadata": {},
     "output_type": "execute_result"
    }
   ],
   "source": [
    "arr.shape"
   ]
  },
  {
   "cell_type": "code",
   "execution_count": 50,
   "id": "810090c7-2990-4419-89be-c8287cc4fdf3",
   "metadata": {},
   "outputs": [
    {
     "data": {
      "text/plain": [
       "9"
      ]
     },
     "execution_count": 50,
     "metadata": {},
     "output_type": "execute_result"
    }
   ],
   "source": [
    "arr.size"
   ]
  },
  {
   "cell_type": "code",
   "execution_count": 51,
   "id": "18228836-e4d2-4919-820d-513772ad943c",
   "metadata": {},
   "outputs": [
    {
     "data": {
      "text/plain": [
       "36"
      ]
     },
     "execution_count": 51,
     "metadata": {},
     "output_type": "execute_result"
    }
   ],
   "source": [
    "arr.nbytes\n"
   ]
  },
  {
   "cell_type": "code",
   "execution_count": 52,
   "id": "2af7e4ee-1783-4a09-a6db-b0e924c46abe",
   "metadata": {},
   "outputs": [],
   "source": [
    "one=np.array([1,5,2,8,88])"
   ]
  },
  {
   "cell_type": "code",
   "execution_count": 53,
   "id": "599ec4ff-4992-4783-876b-5bc9d6e10b5a",
   "metadata": {},
   "outputs": [
    {
     "data": {
      "text/plain": [
       "4"
      ]
     },
     "execution_count": 53,
     "metadata": {},
     "output_type": "execute_result"
    }
   ],
   "source": [
    "one.argmax()"
   ]
  },
  {
   "cell_type": "code",
   "execution_count": 54,
   "id": "9b94408c-d329-425f-bd34-5bd49e469f60",
   "metadata": {},
   "outputs": [
    {
     "data": {
      "text/plain": [
       "0"
      ]
     },
     "execution_count": 54,
     "metadata": {},
     "output_type": "execute_result"
    }
   ],
   "source": [
    "one.argmin()\n"
   ]
  },
  {
   "cell_type": "code",
   "execution_count": 55,
   "id": "e12b2bd9-b07b-4245-b280-7fe632355fe7",
   "metadata": {},
   "outputs": [
    {
     "data": {
      "text/plain": [
       "array([0, 2, 1, 3, 4], dtype=int64)"
      ]
     },
     "execution_count": 55,
     "metadata": {},
     "output_type": "execute_result"
    }
   ],
   "source": [
    "one.argsort()"
   ]
  },
  {
   "cell_type": "code",
   "execution_count": 58,
   "id": "339a7d07-cb5f-4b4b-af87-3266202f21c6",
   "metadata": {},
   "outputs": [
    {
     "data": {
      "text/plain": [
       "array([1.        , 2.23606798, 1.41421356, 2.82842712, 9.38083152])"
      ]
     },
     "execution_count": 58,
     "metadata": {},
     "output_type": "execute_result"
    }
   ],
   "source": [
    "np.sqrt(one)"
   ]
  },
  {
   "cell_type": "code",
   "execution_count": 59,
   "id": "4d3eb32c-c48f-4069-a0e7-f538e6f10443",
   "metadata": {},
   "outputs": [
    {
     "data": {
      "text/plain": [
       "array([[1, 2, 3],\n",
       "       [4, 5, 6],\n",
       "       [7, 8, 9]])"
      ]
     },
     "execution_count": 59,
     "metadata": {},
     "output_type": "execute_result"
    }
   ],
   "source": [
    "arr"
   ]
  },
  {
   "cell_type": "code",
   "execution_count": 61,
   "id": "cdf32308-c13a-4a2a-8450-c2984a455d46",
   "metadata": {},
   "outputs": [
    {
     "data": {
      "text/plain": [
       "(array([2, 2, 2], dtype=int64), array([0, 1, 2], dtype=int64))"
      ]
     },
     "execution_count": 61,
     "metadata": {},
     "output_type": "execute_result"
    }
   ],
   "source": [
    "np.where(arr>6)"
   ]
  },
  {
   "cell_type": "code",
   "execution_count": 62,
   "id": "bc065715-76dd-42f9-a512-ff33f9a76656",
   "metadata": {},
   "outputs": [
    {
     "data": {
      "text/plain": [
       "tuple"
      ]
     },
     "execution_count": 62,
     "metadata": {},
     "output_type": "execute_result"
    }
   ],
   "source": [
    "type(np.where(arr>6))"
   ]
  },
  {
   "cell_type": "code",
   "execution_count": null,
   "id": "f8570c6b-5452-41c5-8839-347542ef8369",
   "metadata": {},
   "outputs": [],
   "source": []
  }
 ],
 "metadata": {
  "kernelspec": {
   "display_name": "Python 3 (ipykernel)",
   "language": "python",
   "name": "python3"
  },
  "language_info": {
   "codemirror_mode": {
    "name": "ipython",
    "version": 3
   },
   "file_extension": ".py",
   "mimetype": "text/x-python",
   "name": "python",
   "nbconvert_exporter": "python",
   "pygments_lexer": "ipython3",
   "version": "3.10.11"
  }
 },
 "nbformat": 4,
 "nbformat_minor": 5
}
